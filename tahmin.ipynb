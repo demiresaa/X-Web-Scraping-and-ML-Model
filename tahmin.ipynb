{
 "cells": [
  {
   "cell_type": "code",
   "execution_count": 1,
   "id": "9844bc91-6822-4376-92a3-90d86bc5d2a7",
   "metadata": {},
   "outputs": [],
   "source": [
    "import pandas as pd\n",
    "import numpy as np"
   ]
  },
  {
   "cell_type": "code",
   "execution_count": 3,
   "id": "b56def12-4bb7-41b6-8c84-9538c30b11ac",
   "metadata": {},
   "outputs": [],
   "source": [
    "data=pd.read_csv(\"C:/Users/Dell/Desktop/DS/DSnot/akp_tahmin/data.csv\")"
   ]
  },
  {
   "cell_type": "code",
   "execution_count": 4,
   "id": "d91018c0-282d-4125-a92d-eac972c103b1",
   "metadata": {},
   "outputs": [
    {
     "data": {
      "text/html": [
       "<div>\n",
       "<style scoped>\n",
       "    .dataframe tbody tr th:only-of-type {\n",
       "        vertical-align: middle;\n",
       "    }\n",
       "\n",
       "    .dataframe tbody tr th {\n",
       "        vertical-align: top;\n",
       "    }\n",
       "\n",
       "    .dataframe thead th {\n",
       "        text-align: right;\n",
       "    }\n",
       "</style>\n",
       "<table border=\"1\" class=\"dataframe\">\n",
       "  <thead>\n",
       "    <tr style=\"text-align: right;\">\n",
       "      <th></th>\n",
       "      <th>text</th>\n",
       "      <th>result</th>\n",
       "    </tr>\n",
       "  </thead>\n",
       "  <tbody>\n",
       "    <tr>\n",
       "      <th>0</th>\n",
       "      <td>Son yıllarda Türkiye'yi büyüten ve geliştiren ...</td>\n",
       "      <td>1</td>\n",
       "    </tr>\n",
       "    <tr>\n",
       "      <th>1</th>\n",
       "      <td>Ekonomide büyük reformlar yapıldı ve bu sayede...</td>\n",
       "      <td>1</td>\n",
       "    </tr>\n",
       "    <tr>\n",
       "      <th>2</th>\n",
       "      <td>Yapılan altyapı projeleri, ülke genelinde büyü...</td>\n",
       "      <td>1</td>\n",
       "    </tr>\n",
       "    <tr>\n",
       "      <th>3</th>\n",
       "      <td>Sosyal yardımlar ve destek programları, özelli...</td>\n",
       "      <td>1</td>\n",
       "    </tr>\n",
       "    <tr>\n",
       "      <th>4</th>\n",
       "      <td>Demokratikleşme adımları atıldı ve vatandaşlar...</td>\n",
       "      <td>1</td>\n",
       "    </tr>\n",
       "  </tbody>\n",
       "</table>\n",
       "</div>"
      ],
      "text/plain": [
       "                                                text  result\n",
       "0  Son yıllarda Türkiye'yi büyüten ve geliştiren ...       1\n",
       "1  Ekonomide büyük reformlar yapıldı ve bu sayede...       1\n",
       "2  Yapılan altyapı projeleri, ülke genelinde büyü...       1\n",
       "3  Sosyal yardımlar ve destek programları, özelli...       1\n",
       "4  Demokratikleşme adımları atıldı ve vatandaşlar...       1"
      ]
     },
     "execution_count": 4,
     "metadata": {},
     "output_type": "execute_result"
    }
   ],
   "source": [
    "data.head()"
   ]
  },
  {
   "cell_type": "code",
   "execution_count": 5,
   "id": "3a42144b-b7ab-4f7c-91f3-880ae0e89bc8",
   "metadata": {},
   "outputs": [
    {
     "data": {
      "text/plain": [
       "3746"
      ]
     },
     "execution_count": 5,
     "metadata": {},
     "output_type": "execute_result"
    }
   ],
   "source": [
    "df=pd.DataFrame(data)\n",
    "df.size"
   ]
  },
  {
   "cell_type": "code",
   "execution_count": 6,
   "id": "13662f8d-6432-4522-bd7f-0518ac29cb34",
   "metadata": {},
   "outputs": [
    {
     "data": {
      "text/html": [
       "<div>\n",
       "<style scoped>\n",
       "    .dataframe tbody tr th:only-of-type {\n",
       "        vertical-align: middle;\n",
       "    }\n",
       "\n",
       "    .dataframe tbody tr th {\n",
       "        vertical-align: top;\n",
       "    }\n",
       "\n",
       "    .dataframe thead th {\n",
       "        text-align: right;\n",
       "    }\n",
       "</style>\n",
       "<table border=\"1\" class=\"dataframe\">\n",
       "  <thead>\n",
       "    <tr style=\"text-align: right;\">\n",
       "      <th></th>\n",
       "      <th>text</th>\n",
       "      <th>result</th>\n",
       "    </tr>\n",
       "  </thead>\n",
       "  <tbody>\n",
       "    <tr>\n",
       "      <th>0</th>\n",
       "      <td>Son yıllarda Türkiye'yi büyüten ve geliştiren ...</td>\n",
       "      <td>1</td>\n",
       "    </tr>\n",
       "    <tr>\n",
       "      <th>1</th>\n",
       "      <td>Ekonomide büyük reformlar yapıldı ve bu sayede...</td>\n",
       "      <td>1</td>\n",
       "    </tr>\n",
       "    <tr>\n",
       "      <th>2</th>\n",
       "      <td>Yapılan altyapı projeleri, ülke genelinde büyü...</td>\n",
       "      <td>1</td>\n",
       "    </tr>\n",
       "    <tr>\n",
       "      <th>3</th>\n",
       "      <td>Sosyal yardımlar ve destek programları, özelli...</td>\n",
       "      <td>1</td>\n",
       "    </tr>\n",
       "    <tr>\n",
       "      <th>4</th>\n",
       "      <td>Demokratikleşme adımları atıldı ve vatandaşlar...</td>\n",
       "      <td>1</td>\n",
       "    </tr>\n",
       "  </tbody>\n",
       "</table>\n",
       "</div>"
      ],
      "text/plain": [
       "                                                text  result\n",
       "0  Son yıllarda Türkiye'yi büyüten ve geliştiren ...       1\n",
       "1  Ekonomide büyük reformlar yapıldı ve bu sayede...       1\n",
       "2  Yapılan altyapı projeleri, ülke genelinde büyü...       1\n",
       "3  Sosyal yardımlar ve destek programları, özelli...       1\n",
       "4  Demokratikleşme adımları atıldı ve vatandaşlar...       1"
      ]
     },
     "execution_count": 6,
     "metadata": {},
     "output_type": "execute_result"
    }
   ],
   "source": [
    "df.head()"
   ]
  },
  {
   "cell_type": "code",
   "execution_count": 7,
   "id": "e4f16619-784d-49f3-a016-754b6812e085",
   "metadata": {},
   "outputs": [
    {
     "data": {
      "text/plain": [
       "<bound method NDFrame.head of 0       Son yıllarda Türkiye'yi büyüten ve geliştiren ...\n",
       "1       Ekonomide büyük reformlar yapıldı ve bu sayede...\n",
       "2       Yapılan altyapı projeleri, ülke genelinde büyü...\n",
       "3       Sosyal yardımlar ve destek programları, özelli...\n",
       "4       Demokratikleşme adımları atıldı ve vatandaşlar...\n",
       "                              ...                        \n",
       "1868                  . Parti'nin politikaları bir yıkım.\n",
       "1869    . AKP liderleri Türkiye'yi yönetemez ve bilgisiz.\n",
       "1870     Parti'nin politikacıları kendi çıkarlarını dü...\n",
       "1871    . AKP'nin ideolojisi Türkiye'nin birlik ve ber...\n",
       "1872    . Parti'nin eylemleri Türkiye'nin ekonomisine ...\n",
       "Name: text, Length: 1873, dtype: object>"
      ]
     },
     "execution_count": 7,
     "metadata": {},
     "output_type": "execute_result"
    }
   ],
   "source": [
    "df[\"text\"].head"
   ]
  },
  {
   "cell_type": "code",
   "execution_count": 8,
   "id": "47cdf1b6-74b5-4325-a435-b16f6d81fa6e",
   "metadata": {},
   "outputs": [
    {
     "data": {
      "text/html": [
       "<div>\n",
       "<style scoped>\n",
       "    .dataframe tbody tr th:only-of-type {\n",
       "        vertical-align: middle;\n",
       "    }\n",
       "\n",
       "    .dataframe tbody tr th {\n",
       "        vertical-align: top;\n",
       "    }\n",
       "\n",
       "    .dataframe thead th {\n",
       "        text-align: right;\n",
       "    }\n",
       "</style>\n",
       "<table border=\"1\" class=\"dataframe\">\n",
       "  <thead>\n",
       "    <tr style=\"text-align: right;\">\n",
       "      <th></th>\n",
       "      <th>text</th>\n",
       "      <th>result</th>\n",
       "      <th>temizText</th>\n",
       "    </tr>\n",
       "  </thead>\n",
       "  <tbody>\n",
       "    <tr>\n",
       "      <th>0</th>\n",
       "      <td>Son yıllarda Türkiye'yi büyüten ve geliştiren ...</td>\n",
       "      <td>1</td>\n",
       "      <td>son yıllarda türkiyeyi büyüten ve geliştiren l...</td>\n",
       "    </tr>\n",
       "    <tr>\n",
       "      <th>1</th>\n",
       "      <td>Ekonomide büyük reformlar yapıldı ve bu sayede...</td>\n",
       "      <td>1</td>\n",
       "      <td>ekonomide büyük reformlar yapıldı ve bu sayede...</td>\n",
       "    </tr>\n",
       "    <tr>\n",
       "      <th>2</th>\n",
       "      <td>Yapılan altyapı projeleri, ülke genelinde büyü...</td>\n",
       "      <td>1</td>\n",
       "      <td>yapılan altyapı projeleri ülke genelinde büyük...</td>\n",
       "    </tr>\n",
       "    <tr>\n",
       "      <th>3</th>\n",
       "      <td>Sosyal yardımlar ve destek programları, özelli...</td>\n",
       "      <td>1</td>\n",
       "      <td>sosyal yardımlar ve destek programları özellik...</td>\n",
       "    </tr>\n",
       "    <tr>\n",
       "      <th>4</th>\n",
       "      <td>Demokratikleşme adımları atıldı ve vatandaşlar...</td>\n",
       "      <td>1</td>\n",
       "      <td>demokratikleşme adımları atıldı ve vatandaşlar...</td>\n",
       "    </tr>\n",
       "  </tbody>\n",
       "</table>\n",
       "</div>"
      ],
      "text/plain": [
       "                                                text  result  \\\n",
       "0  Son yıllarda Türkiye'yi büyüten ve geliştiren ...       1   \n",
       "1  Ekonomide büyük reformlar yapıldı ve bu sayede...       1   \n",
       "2  Yapılan altyapı projeleri, ülke genelinde büyü...       1   \n",
       "3  Sosyal yardımlar ve destek programları, özelli...       1   \n",
       "4  Demokratikleşme adımları atıldı ve vatandaşlar...       1   \n",
       "\n",
       "                                           temizText  \n",
       "0  son yıllarda türkiyeyi büyüten ve geliştiren l...  \n",
       "1  ekonomide büyük reformlar yapıldı ve bu sayede...  \n",
       "2  yapılan altyapı projeleri ülke genelinde büyük...  \n",
       "3  sosyal yardımlar ve destek programları özellik...  \n",
       "4  demokratikleşme adımları atıldı ve vatandaşlar...  "
      ]
     },
     "execution_count": 8,
     "metadata": {},
     "output_type": "execute_result"
    }
   ],
   "source": [
    "import pandas as pd\n",
    "import re\n",
    "\n",
    "\n",
    "def temizle_metni(text):\n",
    "    if isinstance(text, str):\n",
    "        # Küçük harfe dönüştür\n",
    "        text = text.lower()\n",
    "        \n",
    "        # Noktalama işaretlerini temizle\n",
    "        text = re.sub(r'[^\\w\\s]', '', text)\n",
    "        \n",
    "        # Boşlukları temizle\n",
    "        text = re.sub(r'\\s+', ' ', text).strip()\n",
    "        \n",
    "        return text\n",
    "df[\"temizText\"] = df[\"text\"].apply(temizle_metni)\n",
    "df.head()"
   ]
  },
  {
   "cell_type": "code",
   "execution_count": 9,
   "id": "8dbb1e9a-c8c4-4d85-96e5-813577e7b9ae",
   "metadata": {},
   "outputs": [],
   "source": [
    "df = df.drop(columns=[\"text\"])"
   ]
  },
  {
   "cell_type": "code",
   "execution_count": 10,
   "id": "add11313-0ccf-43e1-be8c-f3ca636d8326",
   "metadata": {},
   "outputs": [
    {
     "data": {
      "text/html": [
       "<div>\n",
       "<style scoped>\n",
       "    .dataframe tbody tr th:only-of-type {\n",
       "        vertical-align: middle;\n",
       "    }\n",
       "\n",
       "    .dataframe tbody tr th {\n",
       "        vertical-align: top;\n",
       "    }\n",
       "\n",
       "    .dataframe thead th {\n",
       "        text-align: right;\n",
       "    }\n",
       "</style>\n",
       "<table border=\"1\" class=\"dataframe\">\n",
       "  <thead>\n",
       "    <tr style=\"text-align: right;\">\n",
       "      <th></th>\n",
       "      <th>result</th>\n",
       "      <th>temizText</th>\n",
       "    </tr>\n",
       "  </thead>\n",
       "  <tbody>\n",
       "    <tr>\n",
       "      <th>0</th>\n",
       "      <td>1</td>\n",
       "      <td>son yıllarda türkiyeyi büyüten ve geliştiren l...</td>\n",
       "    </tr>\n",
       "    <tr>\n",
       "      <th>1</th>\n",
       "      <td>1</td>\n",
       "      <td>ekonomide büyük reformlar yapıldı ve bu sayede...</td>\n",
       "    </tr>\n",
       "    <tr>\n",
       "      <th>2</th>\n",
       "      <td>1</td>\n",
       "      <td>yapılan altyapı projeleri ülke genelinde büyük...</td>\n",
       "    </tr>\n",
       "    <tr>\n",
       "      <th>3</th>\n",
       "      <td>1</td>\n",
       "      <td>sosyal yardımlar ve destek programları özellik...</td>\n",
       "    </tr>\n",
       "    <tr>\n",
       "      <th>4</th>\n",
       "      <td>1</td>\n",
       "      <td>demokratikleşme adımları atıldı ve vatandaşlar...</td>\n",
       "    </tr>\n",
       "  </tbody>\n",
       "</table>\n",
       "</div>"
      ],
      "text/plain": [
       "   result                                          temizText\n",
       "0       1  son yıllarda türkiyeyi büyüten ve geliştiren l...\n",
       "1       1  ekonomide büyük reformlar yapıldı ve bu sayede...\n",
       "2       1  yapılan altyapı projeleri ülke genelinde büyük...\n",
       "3       1  sosyal yardımlar ve destek programları özellik...\n",
       "4       1  demokratikleşme adımları atıldı ve vatandaşlar..."
      ]
     },
     "execution_count": 10,
     "metadata": {},
     "output_type": "execute_result"
    }
   ],
   "source": [
    "df.head()"
   ]
  },
  {
   "cell_type": "code",
   "execution_count": 11,
   "id": "96d2639a-5a25-4129-99a9-a96d27d5cf72",
   "metadata": {},
   "outputs": [],
   "source": [
    "from sklearn.feature_extraction.text import CountVectorizer\n"
   ]
  },
  {
   "cell_type": "code",
   "execution_count": 12,
   "id": "d97735ae-3597-4d59-af27-2e64d41a002a",
   "metadata": {},
   "outputs": [
    {
     "data": {
      "text/html": [
       "<div>\n",
       "<style scoped>\n",
       "    .dataframe tbody tr th:only-of-type {\n",
       "        vertical-align: middle;\n",
       "    }\n",
       "\n",
       "    .dataframe tbody tr th {\n",
       "        vertical-align: top;\n",
       "    }\n",
       "\n",
       "    .dataframe thead th {\n",
       "        text-align: right;\n",
       "    }\n",
       "</style>\n",
       "<table border=\"1\" class=\"dataframe\">\n",
       "  <thead>\n",
       "    <tr style=\"text-align: right;\">\n",
       "      <th></th>\n",
       "      <th>result</th>\n",
       "      <th>temizText</th>\n",
       "    </tr>\n",
       "  </thead>\n",
       "  <tbody>\n",
       "    <tr>\n",
       "      <th>0</th>\n",
       "      <td>1</td>\n",
       "      <td>son yıllarda türkiyeyi büyüten ve geliştiren l...</td>\n",
       "    </tr>\n",
       "    <tr>\n",
       "      <th>1</th>\n",
       "      <td>1</td>\n",
       "      <td>ekonomide büyük reformlar yapıldı ve bu sayede...</td>\n",
       "    </tr>\n",
       "    <tr>\n",
       "      <th>2</th>\n",
       "      <td>1</td>\n",
       "      <td>yapılan altyapı projeleri ülke genelinde büyük...</td>\n",
       "    </tr>\n",
       "    <tr>\n",
       "      <th>3</th>\n",
       "      <td>1</td>\n",
       "      <td>sosyal yardımlar ve destek programları özellik...</td>\n",
       "    </tr>\n",
       "    <tr>\n",
       "      <th>4</th>\n",
       "      <td>1</td>\n",
       "      <td>demokratikleşme adımları atıldı ve vatandaşlar...</td>\n",
       "    </tr>\n",
       "    <tr>\n",
       "      <th>...</th>\n",
       "      <td>...</td>\n",
       "      <td>...</td>\n",
       "    </tr>\n",
       "    <tr>\n",
       "      <th>1868</th>\n",
       "      <td>0</td>\n",
       "      <td>partinin politikaları bir yıkım</td>\n",
       "    </tr>\n",
       "    <tr>\n",
       "      <th>1869</th>\n",
       "      <td>0</td>\n",
       "      <td>akp liderleri türkiyeyi yönetemez ve bilgisiz</td>\n",
       "    </tr>\n",
       "    <tr>\n",
       "      <th>1870</th>\n",
       "      <td>0</td>\n",
       "      <td>partinin politikacıları kendi çıkarlarını düşü...</td>\n",
       "    </tr>\n",
       "    <tr>\n",
       "      <th>1871</th>\n",
       "      <td>0</td>\n",
       "      <td>akpnin ideolojisi türkiyenin birlik ve beraber...</td>\n",
       "    </tr>\n",
       "    <tr>\n",
       "      <th>1872</th>\n",
       "      <td>0</td>\n",
       "      <td>partinin eylemleri türkiyenin ekonomisine zara...</td>\n",
       "    </tr>\n",
       "  </tbody>\n",
       "</table>\n",
       "<p>1873 rows × 2 columns</p>\n",
       "</div>"
      ],
      "text/plain": [
       "      result                                          temizText\n",
       "0          1  son yıllarda türkiyeyi büyüten ve geliştiren l...\n",
       "1          1  ekonomide büyük reformlar yapıldı ve bu sayede...\n",
       "2          1  yapılan altyapı projeleri ülke genelinde büyük...\n",
       "3          1  sosyal yardımlar ve destek programları özellik...\n",
       "4          1  demokratikleşme adımları atıldı ve vatandaşlar...\n",
       "...      ...                                                ...\n",
       "1868       0                    partinin politikaları bir yıkım\n",
       "1869       0      akp liderleri türkiyeyi yönetemez ve bilgisiz\n",
       "1870       0  partinin politikacıları kendi çıkarlarını düşü...\n",
       "1871       0  akpnin ideolojisi türkiyenin birlik ve beraber...\n",
       "1872       0  partinin eylemleri türkiyenin ekonomisine zara...\n",
       "\n",
       "[1873 rows x 2 columns]"
      ]
     },
     "execution_count": 12,
     "metadata": {},
     "output_type": "execute_result"
    }
   ],
   "source": [
    "df"
   ]
  },
  {
   "cell_type": "code",
   "execution_count": 13,
   "id": "1b0af5cb-7c35-41a9-9291-98d7ae205196",
   "metadata": {},
   "outputs": [],
   "source": [
    "y=df.iloc[:,0:1]"
   ]
  },
  {
   "cell_type": "code",
   "execution_count": 14,
   "id": "81b6fa34-df78-4218-8822-799b0b8a8b75",
   "metadata": {},
   "outputs": [],
   "source": [
    "X=df.iloc[:,1:2]"
   ]
  },
  {
   "cell_type": "code",
   "execution_count": 15,
   "id": "edd04f61-d8bb-460a-b8e7-45d1fca9d6d8",
   "metadata": {},
   "outputs": [
    {
     "data": {
      "text/html": [
       "<div>\n",
       "<style scoped>\n",
       "    .dataframe tbody tr th:only-of-type {\n",
       "        vertical-align: middle;\n",
       "    }\n",
       "\n",
       "    .dataframe tbody tr th {\n",
       "        vertical-align: top;\n",
       "    }\n",
       "\n",
       "    .dataframe thead th {\n",
       "        text-align: right;\n",
       "    }\n",
       "</style>\n",
       "<table border=\"1\" class=\"dataframe\">\n",
       "  <thead>\n",
       "    <tr style=\"text-align: right;\">\n",
       "      <th></th>\n",
       "      <th>temizText</th>\n",
       "    </tr>\n",
       "  </thead>\n",
       "  <tbody>\n",
       "    <tr>\n",
       "      <th>0</th>\n",
       "      <td>son yıllarda türkiyeyi büyüten ve geliştiren l...</td>\n",
       "    </tr>\n",
       "    <tr>\n",
       "      <th>1</th>\n",
       "      <td>ekonomide büyük reformlar yapıldı ve bu sayede...</td>\n",
       "    </tr>\n",
       "    <tr>\n",
       "      <th>2</th>\n",
       "      <td>yapılan altyapı projeleri ülke genelinde büyük...</td>\n",
       "    </tr>\n",
       "    <tr>\n",
       "      <th>3</th>\n",
       "      <td>sosyal yardımlar ve destek programları özellik...</td>\n",
       "    </tr>\n",
       "    <tr>\n",
       "      <th>4</th>\n",
       "      <td>demokratikleşme adımları atıldı ve vatandaşlar...</td>\n",
       "    </tr>\n",
       "  </tbody>\n",
       "</table>\n",
       "</div>"
      ],
      "text/plain": [
       "                                           temizText\n",
       "0  son yıllarda türkiyeyi büyüten ve geliştiren l...\n",
       "1  ekonomide büyük reformlar yapıldı ve bu sayede...\n",
       "2  yapılan altyapı projeleri ülke genelinde büyük...\n",
       "3  sosyal yardımlar ve destek programları özellik...\n",
       "4  demokratikleşme adımları atıldı ve vatandaşlar..."
      ]
     },
     "execution_count": 15,
     "metadata": {},
     "output_type": "execute_result"
    }
   ],
   "source": [
    "X.head()"
   ]
  },
  {
   "cell_type": "code",
   "execution_count": 16,
   "id": "7aeb34d0-20eb-42cc-96ba-45441c3e6c53",
   "metadata": {},
   "outputs": [
    {
     "data": {
      "text/html": [
       "<div>\n",
       "<style scoped>\n",
       "    .dataframe tbody tr th:only-of-type {\n",
       "        vertical-align: middle;\n",
       "    }\n",
       "\n",
       "    .dataframe tbody tr th {\n",
       "        vertical-align: top;\n",
       "    }\n",
       "\n",
       "    .dataframe thead th {\n",
       "        text-align: right;\n",
       "    }\n",
       "</style>\n",
       "<table border=\"1\" class=\"dataframe\">\n",
       "  <thead>\n",
       "    <tr style=\"text-align: right;\">\n",
       "      <th></th>\n",
       "      <th>result</th>\n",
       "    </tr>\n",
       "  </thead>\n",
       "  <tbody>\n",
       "    <tr>\n",
       "      <th>0</th>\n",
       "      <td>1</td>\n",
       "    </tr>\n",
       "    <tr>\n",
       "      <th>1</th>\n",
       "      <td>1</td>\n",
       "    </tr>\n",
       "    <tr>\n",
       "      <th>2</th>\n",
       "      <td>1</td>\n",
       "    </tr>\n",
       "    <tr>\n",
       "      <th>3</th>\n",
       "      <td>1</td>\n",
       "    </tr>\n",
       "    <tr>\n",
       "      <th>4</th>\n",
       "      <td>1</td>\n",
       "    </tr>\n",
       "  </tbody>\n",
       "</table>\n",
       "</div>"
      ],
      "text/plain": [
       "   result\n",
       "0       1\n",
       "1       1\n",
       "2       1\n",
       "3       1\n",
       "4       1"
      ]
     },
     "execution_count": 16,
     "metadata": {},
     "output_type": "execute_result"
    }
   ],
   "source": [
    "y.head()"
   ]
  },
  {
   "cell_type": "code",
   "execution_count": 17,
   "id": "b46e3650-7715-45aa-adef-f12fe7127277",
   "metadata": {},
   "outputs": [
    {
     "name": "stdout",
     "output_type": "stream",
     "text": [
      "result       0\n",
      "temizText    0\n",
      "dtype: int64\n"
     ]
    }
   ],
   "source": [
    "print(df.isnull().sum())  # Hangi sütunlarda kaç tane boş değer var\n"
   ]
  },
  {
   "cell_type": "code",
   "execution_count": 18,
   "id": "f4d254b7-5707-410d-9b25-579c919558ba",
   "metadata": {},
   "outputs": [
    {
     "name": "stdout",
     "output_type": "stream",
     "text": [
      "[[0 0 0 ... 0 0 0]\n",
      " [0 0 0 ... 0 0 0]\n",
      " [0 0 0 ... 0 0 0]\n",
      " ...\n",
      " [0 0 0 ... 0 0 0]\n",
      " [0 0 0 ... 0 0 0]\n",
      " [0 0 0 ... 0 0 0]]\n"
     ]
    }
   ],
   "source": [
    "vectorizer = CountVectorizer()\n",
    "X = vectorizer.fit_transform(df['temizText'])\n",
    "\n",
    "print(X.toarray())"
   ]
  },
  {
   "cell_type": "code",
   "execution_count": 19,
   "id": "a5e35160-b71f-4f5e-b312-63747b456df1",
   "metadata": {},
   "outputs": [
    {
     "name": "stdout",
     "output_type": "stream",
     "text": [
      "Öznitelik adları (kelimeler): ['2023' 'abartarak' 'abd' ... 'şiddetle' 'şikayetçi' 'şüpheler']\n",
      "Sayısallaştırılmış veri:\n",
      " [[0 0 0 ... 0 0 0]\n",
      " [0 0 0 ... 0 0 0]\n",
      " [0 0 0 ... 0 0 0]\n",
      " ...\n",
      " [0 0 0 ... 0 0 0]\n",
      " [0 0 0 ... 0 0 0]\n",
      " [0 0 0 ... 0 0 0]]\n"
     ]
    }
   ],
   "source": [
    "from sklearn.feature_extraction.text import CountVectorizer\n",
    "import pandas as pd\n",
    "\n",
    "\n",
    "\n",
    "# CountVectorizer'ı başlatma\n",
    "vectorizer = CountVectorizer()\n",
    "\n",
    "# Metin verisini sayısallaştırma\n",
    "X = vectorizer.fit_transform(df['temizText'])\n",
    "\n",
    "# Sonuçları görmek için\n",
    "print(\"Öznitelik adları (kelimeler):\", vectorizer.get_feature_names_out())\n",
    "print(\"Sayısallaştırılmış veri:\\n\", X.toarray())"
   ]
  },
  {
   "cell_type": "code",
   "execution_count": 20,
   "id": "7e624e14-4f15-4ff6-9804-2b19332774a9",
   "metadata": {},
   "outputs": [
    {
     "name": "stdout",
     "output_type": "stream",
     "text": [
      "Decision Tree Modelinin Doğruluğu: 0.93\n"
     ]
    }
   ],
   "source": [
    "from sklearn.naive_bayes import GaussianNB\n",
    "from sklearn.metrics import accuracy_score\n",
    "from sklearn.model_selection import train_test_split\n",
    "from sklearn.neighbors import KNeighborsClassifier\n",
    "from sklearn.tree import DecisionTreeClassifier\n",
    "from sklearn.svm import SVC\n",
    "from sklearn.ensemble import RandomForestClassifier\n",
    "import numpy as np\n",
    "\n",
    "# Verilerinizi eğitim ve test olarak ayırın\n",
    "X_train, X_test, y_train, y_test = train_test_split(X, y, test_size=0.3, random_state=42)\n",
    "\n",
    "# Model tanımlamaları\n",
    "models = {\n",
    "    \"Decision Tree\": DecisionTreeClassifier(),\n",
    "}\n",
    "\n",
    "# Modelleri eğitip doğruluklarını karşılaştırın\n",
    "accuracies = {}\n",
    "\n",
    "for model_name, model in models.items():\n",
    "    model.fit(X_train.toarray(), np.ravel(y_train))  # Modeli eğitin\n",
    "    y_pred = model.predict(X_test.toarray())          # Tahmin yapın\n",
    "    accuracy = accuracy_score(y_test, y_pred)         # Doğruluğu hesaplayın\n",
    "    accuracies[model_name] = accuracy                  # Sonuçları saklayın\n",
    "\n",
    "# Sonuçları yazdırın\n",
    "for model_name, accuracy in accuracies.items():\n",
    "    print(f\"{model_name} Modelinin Doğruluğu: {accuracy:.2f}\")\n"
   ]
  },
  {
   "cell_type": "code",
   "execution_count": 21,
   "id": "6b0fc352-9eea-4a89-b0f8-8fd58805da27",
   "metadata": {},
   "outputs": [
    {
     "name": "stdout",
     "output_type": "stream",
     "text": [
      "[0]\n"
     ]
    }
   ],
   "source": [
    "metin=vectorizer.transform([\" akp ülkenin baş belası \"])\n",
    "y_pred=model.predict(metin.toarray())\n",
    "print(y_pred)"
   ]
  },
  {
   "cell_type": "code",
   "execution_count": 167,
   "id": "37071674-cd06-4be9-81c7-2ef45c3c629d",
   "metadata": {},
   "outputs": [],
   "source": [
    "import pickle"
   ]
  },
  {
   "cell_type": "code",
   "execution_count": 168,
   "id": "a12956ca-d8cd-4884-ae81-5737f2075229",
   "metadata": {},
   "outputs": [],
   "source": [
    "model=\"akp.pickle\""
   ]
  },
  {
   "cell_type": "code",
   "execution_count": 169,
   "id": "c60fd88f-4bb6-4f5d-9995-36fce7530f42",
   "metadata": {},
   "outputs": [],
   "source": [
    "pickle.dump(clf,open(model,\"wb\")) \n"
   ]
  },
  {
   "cell_type": "code",
   "execution_count": 170,
   "id": "4fe44395-03de-4732-b06a-e0971bbe47ac",
   "metadata": {},
   "outputs": [],
   "source": [
    "with open('vectorizer.pickle', 'wb') as f:\n",
    "    pickle.dump(vectorizer, f)"
   ]
  },
  {
   "cell_type": "code",
   "execution_count": 171,
   "id": "5966694b-221d-4559-9be2-4ce906cb88dd",
   "metadata": {},
   "outputs": [
    {
     "data": {
      "text/plain": [
       "array([[0, 0, 0, ..., 0, 0, 0]], dtype=int64)"
      ]
     },
     "execution_count": 171,
     "metadata": {},
     "output_type": "execute_result"
    }
   ],
   "source": [
    "X[0].toarray()"
   ]
  },
  {
   "cell_type": "code",
   "execution_count": 172,
   "id": "7d4a0d55-b093-4c11-990d-fc30ae78ee4f",
   "metadata": {},
   "outputs": [
    {
     "data": {
      "text/html": [
       "<div>\n",
       "<style scoped>\n",
       "    .dataframe tbody tr th:only-of-type {\n",
       "        vertical-align: middle;\n",
       "    }\n",
       "\n",
       "    .dataframe tbody tr th {\n",
       "        vertical-align: top;\n",
       "    }\n",
       "\n",
       "    .dataframe thead th {\n",
       "        text-align: right;\n",
       "    }\n",
       "</style>\n",
       "<table border=\"1\" class=\"dataframe\">\n",
       "  <thead>\n",
       "    <tr style=\"text-align: right;\">\n",
       "      <th></th>\n",
       "      <th>result</th>\n",
       "      <th>temizText</th>\n",
       "    </tr>\n",
       "  </thead>\n",
       "  <tbody>\n",
       "    <tr>\n",
       "      <th>1868</th>\n",
       "      <td>0</td>\n",
       "      <td>partinin politikaları bir yıkım</td>\n",
       "    </tr>\n",
       "    <tr>\n",
       "      <th>1869</th>\n",
       "      <td>0</td>\n",
       "      <td>akp liderleri türkiyeyi yönetemez ve bilgisiz</td>\n",
       "    </tr>\n",
       "    <tr>\n",
       "      <th>1870</th>\n",
       "      <td>0</td>\n",
       "      <td>partinin politikacıları kendi çıkarlarını düşü...</td>\n",
       "    </tr>\n",
       "    <tr>\n",
       "      <th>1871</th>\n",
       "      <td>0</td>\n",
       "      <td>akpnin ideolojisi türkiyenin birlik ve beraber...</td>\n",
       "    </tr>\n",
       "    <tr>\n",
       "      <th>1872</th>\n",
       "      <td>0</td>\n",
       "      <td>partinin eylemleri türkiyenin ekonomisine zara...</td>\n",
       "    </tr>\n",
       "  </tbody>\n",
       "</table>\n",
       "</div>"
      ],
      "text/plain": [
       "      result                                          temizText\n",
       "1868       0                    partinin politikaları bir yıkım\n",
       "1869       0      akp liderleri türkiyeyi yönetemez ve bilgisiz\n",
       "1870       0  partinin politikacıları kendi çıkarlarını düşü...\n",
       "1871       0  akpnin ideolojisi türkiyenin birlik ve beraber...\n",
       "1872       0  partinin eylemleri türkiyenin ekonomisine zara..."
      ]
     },
     "execution_count": 172,
     "metadata": {},
     "output_type": "execute_result"
    }
   ],
   "source": [
    "df.tail()"
   ]
  },
  {
   "cell_type": "code",
   "execution_count": 190,
   "id": "4329b92b-a61c-4f29-b90a-a4458b8a1375",
   "metadata": {},
   "outputs": [
    {
     "name": "stdout",
     "output_type": "stream",
     "text": [
      "Requirement already satisfied: textblob in c:\\users\\dell\\anaconda3\\lib\\site-packages (0.18.0.post0)\n",
      "Requirement already satisfied: nltk>=3.8 in c:\\users\\dell\\anaconda3\\lib\\site-packages (from textblob) (3.8.1)\n",
      "Requirement already satisfied: click in c:\\users\\dell\\anaconda3\\lib\\site-packages (from nltk>=3.8->textblob) (8.1.7)\n",
      "Requirement already satisfied: joblib in c:\\users\\dell\\anaconda3\\lib\\site-packages (from nltk>=3.8->textblob) (1.4.2)\n",
      "Requirement already satisfied: regex>=2021.8.3 in c:\\users\\dell\\anaconda3\\lib\\site-packages (from nltk>=3.8->textblob) (2024.7.24)\n",
      "Requirement already satisfied: tqdm in c:\\users\\dell\\anaconda3\\lib\\site-packages (from nltk>=3.8->textblob) (4.66.4)\n",
      "Requirement already satisfied: colorama in c:\\users\\dell\\anaconda3\\lib\\site-packages (from click->nltk>=3.8->textblob) (0.4.6)\n"
     ]
    }
   ],
   "source": [
    "! pip install -U textblob\n"
   ]
  },
  {
   "cell_type": "code",
   "execution_count": 191,
   "id": "f3298016-5679-4701-aedc-2e05271b9b7d",
   "metadata": {},
   "outputs": [
    {
     "name": "stdout",
     "output_type": "stream",
     "text": [
      "Requirement already satisfied: googletrans==4.0.0-rc1 in c:\\users\\dell\\anaconda3\\lib\\site-packages (4.0.0rc1)\n",
      "Requirement already satisfied: httpx==0.13.3 in c:\\users\\dell\\anaconda3\\lib\\site-packages (from googletrans==4.0.0-rc1) (0.13.3)\n",
      "Requirement already satisfied: certifi in c:\\users\\dell\\anaconda3\\lib\\site-packages (from httpx==0.13.3->googletrans==4.0.0-rc1) (2024.7.4)\n",
      "Requirement already satisfied: hstspreload in c:\\users\\dell\\anaconda3\\lib\\site-packages (from httpx==0.13.3->googletrans==4.0.0-rc1) (2024.10.1)\n",
      "Requirement already satisfied: sniffio in c:\\users\\dell\\anaconda3\\lib\\site-packages (from httpx==0.13.3->googletrans==4.0.0-rc1) (1.3.0)\n",
      "Requirement already satisfied: chardet==3.* in c:\\users\\dell\\anaconda3\\lib\\site-packages (from httpx==0.13.3->googletrans==4.0.0-rc1) (3.0.4)\n",
      "Requirement already satisfied: idna==2.* in c:\\users\\dell\\anaconda3\\lib\\site-packages (from httpx==0.13.3->googletrans==4.0.0-rc1) (2.10)\n",
      "Requirement already satisfied: rfc3986<2,>=1.3 in c:\\users\\dell\\anaconda3\\lib\\site-packages (from httpx==0.13.3->googletrans==4.0.0-rc1) (1.5.0)\n",
      "Requirement already satisfied: httpcore==0.9.* in c:\\users\\dell\\anaconda3\\lib\\site-packages (from httpx==0.13.3->googletrans==4.0.0-rc1) (0.9.1)\n",
      "Requirement already satisfied: h11<0.10,>=0.8 in c:\\users\\dell\\anaconda3\\lib\\site-packages (from httpcore==0.9.*->httpx==0.13.3->googletrans==4.0.0-rc1) (0.9.0)\n",
      "Requirement already satisfied: h2==3.* in c:\\users\\dell\\anaconda3\\lib\\site-packages (from httpcore==0.9.*->httpx==0.13.3->googletrans==4.0.0-rc1) (3.2.0)\n",
      "Requirement already satisfied: hyperframe<6,>=5.2.0 in c:\\users\\dell\\anaconda3\\lib\\site-packages (from h2==3.*->httpcore==0.9.*->httpx==0.13.3->googletrans==4.0.0-rc1) (5.2.0)\n",
      "Requirement already satisfied: hpack<4,>=3.0 in c:\\users\\dell\\anaconda3\\lib\\site-packages (from h2==3.*->httpcore==0.9.*->httpx==0.13.3->googletrans==4.0.0-rc1) (3.0.0)\n"
     ]
    }
   ],
   "source": [
    "from textblob import TextBlob\n",
    "!pip install googletrans==4.0.0-rc1\n"
   ]
  },
  {
   "cell_type": "code",
   "execution_count": 195,
   "id": "b55a974c-b24e-45e2-87d5-d4a9cf03360f",
   "metadata": {},
   "outputs": [
    {
     "name": "stderr",
     "output_type": "stream",
     "text": [
      "[nltk_data] Downloading package stopwords to\n",
      "[nltk_data]     C:\\Users\\Dell\\AppData\\Roaming\\nltk_data...\n",
      "[nltk_data]   Package stopwords is already up-to-date!\n"
     ]
    },
    {
     "name": "stdout",
     "output_type": "stream",
     "text": [
      "[\n",
      "    {\n",
      "        \"original\": \"Bu harika bir gün!\",\n",
      "        \"translation\": \"This is a great day!\",\n",
      "        \"filtered_translation\": \"great day!\"\n",
      "    },\n",
      "    {\n",
      "        \"original\": \"Python programlama dili çok güzel.\",\n",
      "        \"translation\": \"Python programming language is very beautiful.\",\n",
      "        \"filtered_translation\": \"Python programming language beautiful.\"\n",
      "    }\n",
      "]\n"
     ]
    }
   ],
   "source": [
    "from textblob import TextBlob\n",
    "from googletrans import Translator\n",
    "import json\n",
    "import nltk\n",
    "from nltk.corpus import stopwords\n",
    "\n",
    "# NLTK stopwords'i indir\n",
    "nltk.download('stopwords')\n",
    "\n",
    "# İngilizce stopwords listesini al\n",
    "stop_words = set(stopwords.words('english'))\n",
    "\n",
    "# Çeviri için Translator nesnesi oluştur\n",
    "translator = Translator()\n",
    "\n",
    "# Örnek metin\n",
    "metin = [\"Bu harika bir gün!\", \"Python programlama dili çok güzel.\"]\n",
    "\n",
    "# Çevrilmiş metinleri saklamak için bir liste oluştur\n",
    "translated_texts = []\n",
    "\n",
    "# Metinleri çevir\n",
    "for i in metin:\n",
    "    # TextBlob nesnesi oluştur\n",
    "    engMetin = TextBlob(i)  \n",
    "    # Çeviri yap\n",
    "    translated_blob = translator.translate(str(engMetin), dest='en')  # TextBlob'ı stringe dönüştür\n",
    "    # Orijinal ve çevrilmiş metni sakla\n",
    "    translated_texts.append({\n",
    "        \"original\": str(engMetin),  # Orijinal metni string olarak al\n",
    "        \"translation\": translated_blob.text  # Çeviriyi al\n",
    "    })\n",
    "\n",
    "# Çeviriden sonra stopwords'leri kaldır\n",
    "for entry in translated_texts:\n",
    "    translated_text = entry['translation']\n",
    "    # Metni kelimelere ayır ve stopwords'leri filtrele\n",
    "    filtered_translation = ' '.join([word for word in translated_text.split() if word.lower() not in stop_words])\n",
    "    entry['filtered_translation'] = filtered_translation\n",
    "\n",
    "# Sonuçları JSON formatında yazdır\n",
    "json_output = json.dumps(translated_texts, ensure_ascii=False, indent=4)\n",
    "print(json_output)\n"
   ]
  },
  {
   "cell_type": "code",
   "execution_count": 196,
   "id": "ce6731ba-10b8-4317-bb81-90191345d62d",
   "metadata": {},
   "outputs": [
    {
     "data": {
      "text/html": [
       "<div>\n",
       "<style scoped>\n",
       "    .dataframe tbody tr th:only-of-type {\n",
       "        vertical-align: middle;\n",
       "    }\n",
       "\n",
       "    .dataframe tbody tr th {\n",
       "        vertical-align: top;\n",
       "    }\n",
       "\n",
       "    .dataframe thead th {\n",
       "        text-align: right;\n",
       "    }\n",
       "</style>\n",
       "<table border=\"1\" class=\"dataframe\">\n",
       "  <thead>\n",
       "    <tr style=\"text-align: right;\">\n",
       "      <th></th>\n",
       "      <th>result</th>\n",
       "      <th>temizText</th>\n",
       "    </tr>\n",
       "  </thead>\n",
       "  <tbody>\n",
       "    <tr>\n",
       "      <th>0</th>\n",
       "      <td>1</td>\n",
       "      <td>son yıllarda türkiyeyi büyüten ve geliştiren l...</td>\n",
       "    </tr>\n",
       "    <tr>\n",
       "      <th>1</th>\n",
       "      <td>1</td>\n",
       "      <td>ekonomide büyük reformlar yapıldı ve bu sayede...</td>\n",
       "    </tr>\n",
       "    <tr>\n",
       "      <th>2</th>\n",
       "      <td>1</td>\n",
       "      <td>yapılan altyapı projeleri ülke genelinde büyük...</td>\n",
       "    </tr>\n",
       "    <tr>\n",
       "      <th>3</th>\n",
       "      <td>1</td>\n",
       "      <td>sosyal yardımlar ve destek programları özellik...</td>\n",
       "    </tr>\n",
       "    <tr>\n",
       "      <th>4</th>\n",
       "      <td>1</td>\n",
       "      <td>demokratikleşme adımları atıldı ve vatandaşlar...</td>\n",
       "    </tr>\n",
       "  </tbody>\n",
       "</table>\n",
       "</div>"
      ],
      "text/plain": [
       "   result                                          temizText\n",
       "0       1  son yıllarda türkiyeyi büyüten ve geliştiren l...\n",
       "1       1  ekonomide büyük reformlar yapıldı ve bu sayede...\n",
       "2       1  yapılan altyapı projeleri ülke genelinde büyük...\n",
       "3       1  sosyal yardımlar ve destek programları özellik...\n",
       "4       1  demokratikleşme adımları atıldı ve vatandaşlar..."
      ]
     },
     "execution_count": 196,
     "metadata": {},
     "output_type": "execute_result"
    }
   ],
   "source": [
    "df.head()"
   ]
  },
  {
   "cell_type": "code",
   "execution_count": null,
   "id": "3471d920-5fd9-4c4c-9fc6-d2000db076bb",
   "metadata": {},
   "outputs": [],
   "source": []
  }
 ],
 "metadata": {
  "kernelspec": {
   "display_name": "Python 3 (ipykernel)",
   "language": "python",
   "name": "python3"
  },
  "language_info": {
   "codemirror_mode": {
    "name": "ipython",
    "version": 3
   },
   "file_extension": ".py",
   "mimetype": "text/x-python",
   "name": "python",
   "nbconvert_exporter": "python",
   "pygments_lexer": "ipython3",
   "version": "3.11.5"
  }
 },
 "nbformat": 4,
 "nbformat_minor": 5
}
